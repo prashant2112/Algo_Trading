{
  "nbformat": 4,
  "nbformat_minor": 0,
  "metadata": {
    "colab": {
      "provenance": []
    },
    "kernelspec": {
      "name": "python3",
      "display_name": "Python 3"
    },
    "language_info": {
      "name": "python"
    }
  },
  "cells": [
    {
      "cell_type": "markdown",
      "source": [
        "Extracting Data From Yfinance"
      ],
      "metadata": {
        "id": "vAD9_Ct4o_CF"
      }
    },
    {
      "cell_type": "code",
      "execution_count": null,
      "metadata": {
        "id": "3kgwBj29nXUv"
      },
      "outputs": [],
      "source": [
        "import yfinance as yf\n",
        "import pandas as pd\n",
        "import datetime\n",
        "from datetime import date, timedelta"
      ]
    },
    {
      "cell_type": "code",
      "source": [
        "# Select Stocks\n",
        "print(\"Select the stocks by entering SNo:\\n1: TCS.NS  2: RELIANCE.NS  3: INFY.NS\")\n",
        "a = int(input())\n",
        "if a == 1:\n",
        "    stock = \"TCS.NS\"\n",
        "elif a == 2:\n",
        "    stock = \"RELIANCE.NS\"\n",
        "elif a == 3:\n",
        "    stock = \"INFY.NS\"\n",
        "else:\n",
        "  print(\"Enter a Valid SNo\")\n",
        "today = date.today()\n",
        "d1 = today.strftime(\"%Y-%m-%d\")\n",
        "end_date = d1\n",
        "d2 = date.today() - timedelta(days=300)\n",
        "d2.strftime(\"%Y-%m-%d\")\n",
        "start_date = d2\n",
        "data = yf.download(stock, start=start_date, end=end_date, progress=False, auto_adjust=True, group_by='column')\n",
        "data.columns = data.columns.droplevel(1)\n"
      ],
      "metadata": {
        "id": "z6UVGAd6ngpb",
        "colab": {
          "base_uri": "https://localhost:8080/"
        },
        "outputId": "3a101819-b605-4233-ff68-416bcb1d1a6d"
      },
      "execution_count": null,
      "outputs": [
        {
          "name": "stdout",
          "output_type": "stream",
          "text": [
            "Select the stocks by entering SNo:\n",
            "1: TCS.NS  2: RELIANCE.NS  3: INFY.NS\n",
            "1\n"
          ]
        }
      ]
    },
    {
      "cell_type": "code",
      "source": [
        "print(data)"
      ],
      "metadata": {
        "colab": {
          "base_uri": "https://localhost:8080/"
        },
        "id": "_LHQwxV5nk1b",
        "outputId": "e4197274-830b-459a-bd9a-38e32d3fcdf6"
      },
      "execution_count": null,
      "outputs": [
        {
          "output_type": "stream",
          "name": "stdout",
          "text": [
            "Price             Close         High          Low         Open   Volume\n",
            "Date                                                                   \n",
            "2024-09-02  4400.170898  4465.331052  4391.363058  4453.651895  1216500\n",
            "2024-09-03  4391.703613  4434.089029  4375.693246  4400.170717  1717263\n",
            "2024-09-04  4359.488770  4367.031559  4318.076614  4357.250454  1265505\n",
            "2024-09-05  4356.277344  4378.710869  4335.059922  4361.192133  1688793\n",
            "2024-09-06  4337.590332  4398.127487  4321.288175  4354.330647  1649179\n",
            "...                 ...          ...          ...          ...      ...\n",
            "2025-06-20  3435.699951  3446.300049  3410.899902  3425.000000  2351248\n",
            "2025-06-23  3393.600098  3425.000000  3370.000000  3415.000000  3123421\n",
            "2025-06-24  3390.399902  3442.100098  3382.000000  3434.600098  3403048\n",
            "2025-06-25  3444.800049  3450.000000  3400.000000  3407.300049  1757699\n",
            "2025-06-26  3441.800049  3451.399902  3415.300049  3444.800049  2879106\n",
            "\n",
            "[204 rows x 5 columns]\n"
          ]
        }
      ]
    },
    {
      "cell_type": "code",
      "source": [
        "data[\"Date\"] = data.index\n",
        "data = data[[\"Date\",\"Open\",\"Close\",\"High\",\"Low\",\"Volume\"]]\n",
        "data.reset_index(drop=True,inplace = True)\n",
        "\n",
        "data.index.name = \"SNo\""
      ],
      "metadata": {
        "id": "yp9B8EUnoIF9"
      },
      "execution_count": null,
      "outputs": []
    },
    {
      "cell_type": "code",
      "source": [
        "print(data)"
      ],
      "metadata": {
        "colab": {
          "base_uri": "https://localhost:8080/"
        },
        "id": "l6F5R-2xoV4d",
        "outputId": "0fb24125-9fb6-4b7d-e9e6-74816b13671b"
      },
      "execution_count": null,
      "outputs": [
        {
          "output_type": "stream",
          "name": "stdout",
          "text": [
            "Price       Date         Open        Close         High          Low   Volume\n",
            "SNo                                                                          \n",
            "0     2024-09-02  4453.651895  4400.170898  4465.331052  4391.363058  1216500\n",
            "1     2024-09-03  4400.170717  4391.703613  4434.089029  4375.693246  1717263\n",
            "2     2024-09-04  4357.250454  4359.488770  4367.031559  4318.076614  1265505\n",
            "3     2024-09-05  4361.192133  4356.277344  4378.710869  4335.059922  1688793\n",
            "4     2024-09-06  4354.330647  4337.590332  4398.127487  4321.288175  1649179\n",
            "..           ...          ...          ...          ...          ...      ...\n",
            "199   2025-06-20  3425.000000  3435.699951  3446.300049  3410.899902  2351248\n",
            "200   2025-06-23  3415.000000  3393.600098  3425.000000  3370.000000  3123421\n",
            "201   2025-06-24  3434.600098  3390.399902  3442.100098  3382.000000  3403048\n",
            "202   2025-06-25  3407.300049  3444.800049  3450.000000  3400.000000  1757699\n",
            "203   2025-06-26  3444.800049  3441.800049  3451.399902  3415.300049  2879106\n",
            "\n",
            "[204 rows x 6 columns]\n"
          ]
        }
      ]
    },
    {
      "cell_type": "markdown",
      "source": [
        "Trading Strategy"
      ],
      "metadata": {
        "id": "3ZrYeX__pIY3"
      }
    },
    {
      "cell_type": "code",
      "source": [
        "df = data\n",
        "\n",
        "# Dma for 20 days\n",
        "df['20dma'] = df['Close'].rolling(20).mean()\n",
        "# Dma for 50 days\n",
        "df['50dma'] = df['Close'].rolling(50).mean()\n",
        "\n",
        "# RSI\n",
        "delta = df['Close'].diff()\n",
        "gain = (delta.where(delta > 0, 0)).rolling(14).mean()\n",
        "loss = (-delta.where(delta < 0, 0)).rolling(14).mean()\n",
        "rs = gain / loss\n",
        "df['rsi'] = 100 - (100 / (1 + rs))\n",
        "\n",
        "# MACD\n",
        "ema_short = df['Close'].ewm(span=12, adjust=False).mean()\n",
        "ema_long = df['Close'].ewm(span=26, adjust=False).mean()\n",
        "\n",
        "\n",
        "df['macd'] = ema_short - ema_long\n",
        "\n",
        "df['macd_signal'] = df['macd'].ewm(span=9, adjust=False).mean()\n",
        "\n",
        "df['macd_hist'] = df['macd'] - df['macd_signal']\n",
        "\n",
        "dd = df[['Close', '20dma', '50dma', 'rsi']]\n",
        "print(df)"
      ],
      "metadata": {
        "id": "37f2whZjowT9",
        "colab": {
          "base_uri": "https://localhost:8080/"
        },
        "outputId": "552b28fb-c6bc-4d29-a65e-0074c8463938"
      },
      "execution_count": null,
      "outputs": [
        {
          "output_type": "stream",
          "name": "stdout",
          "text": [
            "Price       Date         Open        Close         High          Low   Volume  \\\n",
            "SNo                                                                             \n",
            "0     2024-09-02  4453.651895  4400.170898  4465.331052  4391.363058  1216500   \n",
            "1     2024-09-03  4400.170717  4391.703613  4434.089029  4375.693246  1717263   \n",
            "2     2024-09-04  4357.250454  4359.488770  4367.031559  4318.076614  1265505   \n",
            "3     2024-09-05  4361.192133  4356.277344  4378.710869  4335.059922  1688793   \n",
            "4     2024-09-06  4354.330647  4337.590332  4398.127487  4321.288175  1649179   \n",
            "..           ...          ...          ...          ...          ...      ...   \n",
            "199   2025-06-20  3425.000000  3435.699951  3446.300049  3410.899902  2351248   \n",
            "200   2025-06-23  3415.000000  3393.600098  3425.000000  3370.000000  3123421   \n",
            "201   2025-06-24  3434.600098  3390.399902  3442.100098  3382.000000  3403048   \n",
            "202   2025-06-25  3407.300049  3444.800049  3450.000000  3400.000000  1757699   \n",
            "203   2025-06-26  3444.800049  3441.800049  3451.399902  3415.300049  2879106   \n",
            "\n",
            "Price        20dma        50dma        rsi      macd  macd_signal  macd_hist  \n",
            "SNo                                                                           \n",
            "0              NaN          NaN        NaN  0.000000     0.000000   0.000000  \n",
            "1              NaN          NaN        NaN -0.675453    -0.135091  -0.540362  \n",
            "2              NaN          NaN        NaN -3.766802    -0.861433  -2.905369  \n",
            "3              NaN          NaN        NaN -6.402054    -1.969557  -4.432497  \n",
            "4              NaN          NaN        NaN -9.884454    -3.552536  -6.331918  \n",
            "..             ...          ...        ...       ...          ...        ...  \n",
            "199    3441.558655  3416.485459  52.130844  1.333449     0.354933   0.978516  \n",
            "200    3435.931848  3419.078682  52.419802 -3.121865    -0.340427  -2.781438  \n",
            "201    3432.058032  3422.526733  51.257613 -6.832206    -1.638783  -5.193423  \n",
            "202    3430.953784  3427.362129  58.726017 -5.321694    -2.375365  -2.946329  \n",
            "203    3429.679700  3431.806465  56.986908 -4.316916    -2.763675  -1.553241  \n",
            "\n",
            "[204 rows x 12 columns]\n"
          ]
        }
      ]
    },
    {
      "cell_type": "markdown",
      "source": [
        "Genrating Signals"
      ],
      "metadata": {
        "id": "m_wOElObqZhy"
      }
    },
    {
      "cell_type": "code",
      "source": [
        "#writing Signals\n",
        "df['signal'] = 'HOLD'\n",
        "\n",
        "# Buy signal\n",
        "buy = (df['rsi'] < 30) & (df['20dma'] > df['50dma'])\n",
        "df.loc[buy, 'signal'] = 'BUY'\n",
        "\n",
        "#sell Signal\n",
        "\n",
        "sell = (df['rsi'] > 70) & (df['20dma'] < df['50dma'])\n",
        "df.loc[sell, 'signal'] = 'SELL'\n",
        "\n",
        "\n",
        "trade_df = df[df['signal'] != 'HOLD']\n",
        "trades = []\n",
        "for index, row in trade_df.iterrows():\n",
        "    trades.append({\n",
        "        'Date': row['Date'].strftime('%Y-%m-%d'),\n",
        "        'Company': stock,\n",
        "        'Signal': row['signal'],\n",
        "        'Price': row['Close']\n",
        "    })\n",
        "\n"
      ],
      "metadata": {
        "id": "Rrg9aMLpqYvz"
      },
      "execution_count": null,
      "outputs": []
    },
    {
      "cell_type": "markdown",
      "source": [
        "Creating Google Sheet"
      ],
      "metadata": {
        "id": "3BlnNrikaZgx"
      }
    },
    {
      "cell_type": "code",
      "source": [
        "from google.colab import files\n",
        "uploaded = files.upload()\n"
      ],
      "metadata": {
        "colab": {
          "base_uri": "https://localhost:8080/",
          "height": 73
        },
        "id": "3e-40OjO05el",
        "outputId": "6c448ebd-3263-4bc4-b563-f7cdae28b229"
      },
      "execution_count": null,
      "outputs": [
        {
          "output_type": "display_data",
          "data": {
            "text/plain": [
              "<IPython.core.display.HTML object>"
            ],
            "text/html": [
              "\n",
              "     <input type=\"file\" id=\"files-53bfccb0-1723-4253-90a4-bbe40aa55aaf\" name=\"files[]\" multiple disabled\n",
              "        style=\"border:none\" />\n",
              "     <output id=\"result-53bfccb0-1723-4253-90a4-bbe40aa55aaf\">\n",
              "      Upload widget is only available when the cell has been executed in the\n",
              "      current browser session. Please rerun this cell to enable.\n",
              "      </output>\n",
              "      <script>// Copyright 2017 Google LLC\n",
              "//\n",
              "// Licensed under the Apache License, Version 2.0 (the \"License\");\n",
              "// you may not use this file except in compliance with the License.\n",
              "// You may obtain a copy of the License at\n",
              "//\n",
              "//      http://www.apache.org/licenses/LICENSE-2.0\n",
              "//\n",
              "// Unless required by applicable law or agreed to in writing, software\n",
              "// distributed under the License is distributed on an \"AS IS\" BASIS,\n",
              "// WITHOUT WARRANTIES OR CONDITIONS OF ANY KIND, either express or implied.\n",
              "// See the License for the specific language governing permissions and\n",
              "// limitations under the License.\n",
              "\n",
              "/**\n",
              " * @fileoverview Helpers for google.colab Python module.\n",
              " */\n",
              "(function(scope) {\n",
              "function span(text, styleAttributes = {}) {\n",
              "  const element = document.createElement('span');\n",
              "  element.textContent = text;\n",
              "  for (const key of Object.keys(styleAttributes)) {\n",
              "    element.style[key] = styleAttributes[key];\n",
              "  }\n",
              "  return element;\n",
              "}\n",
              "\n",
              "// Max number of bytes which will be uploaded at a time.\n",
              "const MAX_PAYLOAD_SIZE = 100 * 1024;\n",
              "\n",
              "function _uploadFiles(inputId, outputId) {\n",
              "  const steps = uploadFilesStep(inputId, outputId);\n",
              "  const outputElement = document.getElementById(outputId);\n",
              "  // Cache steps on the outputElement to make it available for the next call\n",
              "  // to uploadFilesContinue from Python.\n",
              "  outputElement.steps = steps;\n",
              "\n",
              "  return _uploadFilesContinue(outputId);\n",
              "}\n",
              "\n",
              "// This is roughly an async generator (not supported in the browser yet),\n",
              "// where there are multiple asynchronous steps and the Python side is going\n",
              "// to poll for completion of each step.\n",
              "// This uses a Promise to block the python side on completion of each step,\n",
              "// then passes the result of the previous step as the input to the next step.\n",
              "function _uploadFilesContinue(outputId) {\n",
              "  const outputElement = document.getElementById(outputId);\n",
              "  const steps = outputElement.steps;\n",
              "\n",
              "  const next = steps.next(outputElement.lastPromiseValue);\n",
              "  return Promise.resolve(next.value.promise).then((value) => {\n",
              "    // Cache the last promise value to make it available to the next\n",
              "    // step of the generator.\n",
              "    outputElement.lastPromiseValue = value;\n",
              "    return next.value.response;\n",
              "  });\n",
              "}\n",
              "\n",
              "/**\n",
              " * Generator function which is called between each async step of the upload\n",
              " * process.\n",
              " * @param {string} inputId Element ID of the input file picker element.\n",
              " * @param {string} outputId Element ID of the output display.\n",
              " * @return {!Iterable<!Object>} Iterable of next steps.\n",
              " */\n",
              "function* uploadFilesStep(inputId, outputId) {\n",
              "  const inputElement = document.getElementById(inputId);\n",
              "  inputElement.disabled = false;\n",
              "\n",
              "  const outputElement = document.getElementById(outputId);\n",
              "  outputElement.innerHTML = '';\n",
              "\n",
              "  const pickedPromise = new Promise((resolve) => {\n",
              "    inputElement.addEventListener('change', (e) => {\n",
              "      resolve(e.target.files);\n",
              "    });\n",
              "  });\n",
              "\n",
              "  const cancel = document.createElement('button');\n",
              "  inputElement.parentElement.appendChild(cancel);\n",
              "  cancel.textContent = 'Cancel upload';\n",
              "  const cancelPromise = new Promise((resolve) => {\n",
              "    cancel.onclick = () => {\n",
              "      resolve(null);\n",
              "    };\n",
              "  });\n",
              "\n",
              "  // Wait for the user to pick the files.\n",
              "  const files = yield {\n",
              "    promise: Promise.race([pickedPromise, cancelPromise]),\n",
              "    response: {\n",
              "      action: 'starting',\n",
              "    }\n",
              "  };\n",
              "\n",
              "  cancel.remove();\n",
              "\n",
              "  // Disable the input element since further picks are not allowed.\n",
              "  inputElement.disabled = true;\n",
              "\n",
              "  if (!files) {\n",
              "    return {\n",
              "      response: {\n",
              "        action: 'complete',\n",
              "      }\n",
              "    };\n",
              "  }\n",
              "\n",
              "  for (const file of files) {\n",
              "    const li = document.createElement('li');\n",
              "    li.append(span(file.name, {fontWeight: 'bold'}));\n",
              "    li.append(span(\n",
              "        `(${file.type || 'n/a'}) - ${file.size} bytes, ` +\n",
              "        `last modified: ${\n",
              "            file.lastModifiedDate ? file.lastModifiedDate.toLocaleDateString() :\n",
              "                                    'n/a'} - `));\n",
              "    const percent = span('0% done');\n",
              "    li.appendChild(percent);\n",
              "\n",
              "    outputElement.appendChild(li);\n",
              "\n",
              "    const fileDataPromise = new Promise((resolve) => {\n",
              "      const reader = new FileReader();\n",
              "      reader.onload = (e) => {\n",
              "        resolve(e.target.result);\n",
              "      };\n",
              "      reader.readAsArrayBuffer(file);\n",
              "    });\n",
              "    // Wait for the data to be ready.\n",
              "    let fileData = yield {\n",
              "      promise: fileDataPromise,\n",
              "      response: {\n",
              "        action: 'continue',\n",
              "      }\n",
              "    };\n",
              "\n",
              "    // Use a chunked sending to avoid message size limits. See b/62115660.\n",
              "    let position = 0;\n",
              "    do {\n",
              "      const length = Math.min(fileData.byteLength - position, MAX_PAYLOAD_SIZE);\n",
              "      const chunk = new Uint8Array(fileData, position, length);\n",
              "      position += length;\n",
              "\n",
              "      const base64 = btoa(String.fromCharCode.apply(null, chunk));\n",
              "      yield {\n",
              "        response: {\n",
              "          action: 'append',\n",
              "          file: file.name,\n",
              "          data: base64,\n",
              "        },\n",
              "      };\n",
              "\n",
              "      let percentDone = fileData.byteLength === 0 ?\n",
              "          100 :\n",
              "          Math.round((position / fileData.byteLength) * 100);\n",
              "      percent.textContent = `${percentDone}% done`;\n",
              "\n",
              "    } while (position < fileData.byteLength);\n",
              "  }\n",
              "\n",
              "  // All done.\n",
              "  yield {\n",
              "    response: {\n",
              "      action: 'complete',\n",
              "    }\n",
              "  };\n",
              "}\n",
              "\n",
              "scope.google = scope.google || {};\n",
              "scope.google.colab = scope.google.colab || {};\n",
              "scope.google.colab._files = {\n",
              "  _uploadFiles,\n",
              "  _uploadFilesContinue,\n",
              "};\n",
              "})(self);\n",
              "</script> "
            ]
          },
          "metadata": {}
        },
        {
          "output_type": "stream",
          "name": "stdout",
          "text": [
            "Saving my-project-trading-464114-d247896726b7.json to my-project-trading-464114-d247896726b7.json\n"
          ]
        }
      ]
    },
    {
      "cell_type": "code",
      "source": [
        "import gspread\n",
        "from google.auth.transport.requests import Request\n",
        "from google.colab import auth\n",
        "from google.oauth2.service_account import Credentials\n",
        "\n",
        "creds_json_path = 'my-project-trading-464114-d247896726b7.json'\n",
        "sheet_name = 'Algo_Trading'\n",
        "\n",
        "auth.authenticate_user()\n",
        "\n",
        "scopes = [\n",
        "      'https://www.googleapis.com/auth/spreadsheets',\n",
        "      'https://www.googleapis.com/auth/drive'\n",
        "  ]\n",
        "\n",
        "creds = Credentials.from_service_account_file(creds_json_path, scopes=scopes)\n",
        "client = gspread.authorize(creds)\n",
        "sheet = client.open(sheet_name)\n",
        "\n",
        "\n",
        "#checking is worksheet is their\n",
        "\n",
        "try:\n",
        "    worksheet = sheet.worksheet('Sheet1')\n",
        "    sheet.del_worksheet(worksheet)\n",
        "except gspread.exceptions.WorksheetNotFound:\n",
        "    pass\n",
        "# adding Data to the worksheet\n",
        "worksheet = sheet.add_worksheet(title='Sheet1', rows=1000, cols=10)\n",
        "worksheet.append_row(['Date', 'Company', 'Signal', 'Price'])\n",
        "rows = [[t['Date'], t['Company'], t['Signal'], t['Price']] for t in trades]\n",
        "rows = []\n",
        "for t in trades:\n",
        "    date_str = str(t['Date'])\n",
        "    rows.append([date_str, t['Company'], t['Signal'], t['Price']])\n",
        "\n",
        "worksheet.update(values=rows, range_name=f'A2:D{len(rows)+1}')\n",
        "\n",
        "\n",
        "\n",
        "print(\"Trades Saved\")\n",
        "print(\"Sheet URL:\", f\"https://docs.google.com/spreadsheets/d/{sheet.id}\")"
      ],
      "metadata": {
        "colab": {
          "base_uri": "https://localhost:8080/"
        },
        "id": "05cZupMF8KgB",
        "outputId": "23f9beef-8368-4835-e361-ed406a04f45a"
      },
      "execution_count": null,
      "outputs": [
        {
          "output_type": "stream",
          "name": "stdout",
          "text": [
            "Trades Saved\n",
            "Sheet URL: https://docs.google.com/spreadsheets/d/1FM3dqCgNmDfvoho3MmySX7O7cgU4XqJ1N7VAlQwagMs\n"
          ]
        }
      ]
    },
    {
      "cell_type": "code",
      "source": [
        "df['target'] = (df['Close'].shift(-1) > df['Close']).astype(int)"
      ],
      "metadata": {
        "id": "19P9KtO2aHlx"
      },
      "execution_count": null,
      "outputs": []
    },
    {
      "cell_type": "markdown",
      "source": [
        "Machine Learing Model and Prediction"
      ],
      "metadata": {
        "id": "ys5yP4Xx0r6J"
      }
    },
    {
      "cell_type": "code",
      "source": [
        "from sklearn.impute import SimpleImputer\n",
        "from sklearn.preprocessing import StandardScaler\n",
        "from sklearn.linear_model import LogisticRegression\n",
        "from sklearn.model_selection import train_test_split\n",
        "from sklearn.metrics import accuracy_score\n",
        "\n",
        "features = ['rsi', '20dma', '50dma', 'Volume', 'macd', 'macd_signal', 'macd_hist']\n",
        "\n",
        "# Drop rows with missing features or target\n",
        "df = df.dropna(subset=features + ['target'])\n",
        "\n",
        "X = df[features]\n",
        "y = df['target']\n",
        "\n",
        "# Impute missing values\n",
        "imputer = SimpleImputer(strategy='mean')\n",
        "X_imputed = pd.DataFrame(imputer.fit_transform(X), columns=features)\n",
        "\n",
        "\n",
        "X_train, X_test, y_train, y_test = train_test_split(\n",
        "    X_imputed, y, test_size=0.2, shuffle=True, random_state=42\n",
        ")\n",
        "\n",
        "\n",
        "scaler = StandardScaler()\n",
        "X_train_scaled = pd.DataFrame(scaler.fit_transform(X_train), columns=features)\n",
        "X_test_scaled = pd.DataFrame(scaler.transform(X_test), columns=features)\n",
        "\n",
        "# Logistic Regression with higher max_iter\n",
        "model = LogisticRegression(max_iter=1000, class_weight='balanced', random_state=42)\n",
        "model.fit(X_train_scaled, y_train)\n",
        "\n",
        "# Predict and evaluate accuracy\n",
        "y_pred = model.predict(X_test_scaled)\n",
        "accuracy = accuracy_score(y_test, y_pred)\n",
        "\n",
        "latest_features = df[features].iloc[-1:].copy()\n",
        "\n",
        "\n",
        "latest_imputed = pd.DataFrame(imputer.transform(latest_features), columns=features)\n",
        "latest_scaled = pd.DataFrame(scaler.transform(latest_imputed), columns=features)\n",
        "\n",
        "# Predict next day movement and probability\n",
        "future_pred = model.predict(latest_scaled)[0]\n",
        "future_prob = model.predict_proba(latest_scaled)[0, 1]\n",
        "\n",
        "accuracy = accuracy_score(y_test, y_pred)\n",
        "print(f\"Accuracy on test set: {accuracy*100:.4f}\")\n",
        "\n",
        "\n",
        "print(f\"\\nFuture prediction (next day): {'Up' if future_pred == 1 else 'Down'}\")"
      ],
      "metadata": {
        "colab": {
          "base_uri": "https://localhost:8080/"
        },
        "id": "GVZBCX6d8H4J",
        "outputId": "a652ee15-8516-49cd-b5a2-dd3222fefa1c"
      },
      "execution_count": null,
      "outputs": [
        {
          "output_type": "stream",
          "name": "stdout",
          "text": [
            "Accuracy on test set: 58.0645\n",
            "\n",
            "Future prediction (next day): Up\n"
          ]
        }
      ]
    }
  ]
}